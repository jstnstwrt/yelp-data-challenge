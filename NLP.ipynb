{
 "cells": [
  {
   "cell_type": "markdown",
   "metadata": {},
   "source": [
    "# NLP"
   ]
  },
  {
   "cell_type": "code",
   "execution_count": 12,
   "metadata": {
    "collapsed": false
   },
   "outputs": [],
   "source": [
    "import pandas as pd\n",
    "import numpy as np\n",
    "from nltk.corpus import stopwords"
   ]
  },
  {
   "cell_type": "code",
   "execution_count": 5,
   "metadata": {
    "collapsed": false
   },
   "outputs": [],
   "source": [
    "reviews = pd.read_csv('yelp_dataset_challenge_academic_dataset/yelp_academic_dataset_review.csv')\n",
    "samp = reviews.sample(n=100)"
   ]
  },
  {
   "cell_type": "code",
   "execution_count": 9,
   "metadata": {
    "collapsed": false
   },
   "outputs": [
    {
     "data": {
      "text/plain": [
       "\"I tried Johnny Smalls last night with a meetup group. While they were getting our table ready, a few of us sat at the bar and had a drink. I decided to ask the bartender for one of his personal specialties. He ended up giving me something he calls the Naughty Irishman. I didn't really watch him make it, but it looked like it was primarily Jameson and Bailey's with crushed ice. I give him props for hand crushing the ice. The drink was pretty good, but it came with the typical Vegas price tag of about $13.\\n\\nOnce seated, we did the AYCE tapas thing for $19.99 per person. Note that you technically need a Hard Rock player's card to get that price; otherwise, it's $23.99. Based on the prices of each item, I got my money's worth. On the other hand, if I disregard how much they list each item, I still probably got my money's worth. I'd say their tapas are a mixed bag. Most of them were decent to very good. Nothing was amazing. If I do this again, I have a few items I would skip.\\n\\nThe Good\\n* Poona Tuna - I started off with this because someone mentioned it on Yelp. The cherry limeade was an interesting sauce and the tuna was maybe slightly overcooked, but I enjoyed the dish.\\n* Jack & Coke - One of the better items. Very tasty.\\n* Lettuce Cups - Shrimp was slightly overcooked, but that's just being picky. This was quite tasty.\\n* Sea Bass - I only tried some of this from someone else's order. It was pretty good, but not my favorite.\\n* Tuna Sashimi - It's hard to mess up ahi tuna. This was simple and tasty.\\n* Surf & Turf - The vanilla butter added a strange flavor to the mix, but pretty good overall.\\n* Grilled PB&J - I found it a little strange that the jelly was on the side i.e. you had to add it yourself, but it was still good. Honestly, I prefer the Fried PB&J we had at the Elite event at Republic, but come on. It's Grilled PB&J!\\n\\nThe Bad\\n* Chicken & Waffles - Disappointing. The chicken was not tasty at all. I didn't like the breading and (once again) it was overcooked. The waffle fries were pretty good though.\\n* Octapussy - I don't like the tapioca batter that they use. Skip.\\n\\nThe Ugly\\n* Tater Tots - It might be the truffle oil, but these smelled and tasted like gasoline. They were nauseous.\\n\\nYou can view their entire tapas menu on their web site: http://bit.ly/jsmalls\\n\\nI'm going with a rounded down A-OK on Johnny Smalls. I'd return if someone suggested it. The decor is trendy and there are definitely some tasty items here. $20 is a good price.\""
      ]
     },
     "execution_count": 9,
     "metadata": {},
     "output_type": "execute_result"
    }
   ],
   "source": [
    "samp.text.iloc[0]"
   ]
  },
  {
   "cell_type": "code",
   "execution_count": 15,
   "metadata": {
    "collapsed": false
   },
   "outputs": [
    {
     "data": {
      "text/plain": [
       "[u'i',\n",
       " u'me',\n",
       " u'my',\n",
       " u'myself',\n",
       " u'we',\n",
       " u'our',\n",
       " u'ours',\n",
       " u'ourselves',\n",
       " u'you',\n",
       " u'your',\n",
       " u'yours',\n",
       " u'yourself',\n",
       " u'yourselves',\n",
       " u'he',\n",
       " u'him',\n",
       " u'his',\n",
       " u'himself',\n",
       " u'she',\n",
       " u'her',\n",
       " u'hers',\n",
       " u'herself',\n",
       " u'it',\n",
       " u'its',\n",
       " u'itself',\n",
       " u'they',\n",
       " u'them',\n",
       " u'their',\n",
       " u'theirs',\n",
       " u'themselves',\n",
       " u'what',\n",
       " u'which',\n",
       " u'who',\n",
       " u'whom',\n",
       " u'this',\n",
       " u'that',\n",
       " u'these',\n",
       " u'those',\n",
       " u'am',\n",
       " u'is',\n",
       " u'are',\n",
       " u'was',\n",
       " u'were',\n",
       " u'be',\n",
       " u'been',\n",
       " u'being',\n",
       " u'have',\n",
       " u'has',\n",
       " u'had',\n",
       " u'having',\n",
       " u'do',\n",
       " u'does',\n",
       " u'did',\n",
       " u'doing',\n",
       " u'a',\n",
       " u'an',\n",
       " u'the',\n",
       " u'and',\n",
       " u'but',\n",
       " u'if',\n",
       " u'or',\n",
       " u'because',\n",
       " u'as',\n",
       " u'until',\n",
       " u'while',\n",
       " u'of',\n",
       " u'at',\n",
       " u'by',\n",
       " u'for',\n",
       " u'with',\n",
       " u'about',\n",
       " u'against',\n",
       " u'between',\n",
       " u'into',\n",
       " u'through',\n",
       " u'during',\n",
       " u'before',\n",
       " u'after',\n",
       " u'above',\n",
       " u'below',\n",
       " u'to',\n",
       " u'from',\n",
       " u'up',\n",
       " u'down',\n",
       " u'in',\n",
       " u'out',\n",
       " u'on',\n",
       " u'off',\n",
       " u'over',\n",
       " u'under',\n",
       " u'again',\n",
       " u'further',\n",
       " u'then',\n",
       " u'once',\n",
       " u'here',\n",
       " u'there',\n",
       " u'when',\n",
       " u'where',\n",
       " u'why',\n",
       " u'how',\n",
       " u'all',\n",
       " u'any',\n",
       " u'both',\n",
       " u'each',\n",
       " u'few',\n",
       " u'more',\n",
       " u'most',\n",
       " u'other',\n",
       " u'some',\n",
       " u'such',\n",
       " u'no',\n",
       " u'nor',\n",
       " u'not',\n",
       " u'only',\n",
       " u'own',\n",
       " u'same',\n",
       " u'so',\n",
       " u'than',\n",
       " u'too',\n",
       " u'very',\n",
       " u's',\n",
       " u't',\n",
       " u'can',\n",
       " u'will',\n",
       " u'just',\n",
       " u'don',\n",
       " u'should',\n",
       " u'now']"
      ]
     },
     "execution_count": 15,
     "metadata": {},
     "output_type": "execute_result"
    }
   ],
   "source": [
    "stopwords.words(\"english\")"
   ]
  }
 ],
 "metadata": {
  "kernelspec": {
   "display_name": "Python 2",
   "language": "python",
   "name": "python2"
  },
  "language_info": {
   "codemirror_mode": {
    "name": "ipython",
    "version": 2
   },
   "file_extension": ".py",
   "mimetype": "text/x-python",
   "name": "python",
   "nbconvert_exporter": "python",
   "pygments_lexer": "ipython2",
   "version": "2.7.11"
  }
 },
 "nbformat": 4,
 "nbformat_minor": 0
}
