{
 "cells": [
  {
   "cell_type": "markdown",
   "metadata": {},
   "source": [
    "# NLP"
   ]
  },
  {
   "cell_type": "code",
   "execution_count": 184,
   "metadata": {
    "collapsed": false
   },
   "outputs": [],
   "source": [
    "import pandas as pd\n",
    "import numpy as np\n",
    "from nltk.corpus import stopwords\n",
    "from string import punctuation, digits, ascii_lowercase\n",
    "import re"
   ]
  },
  {
   "cell_type": "code",
   "execution_count": null,
   "metadata": {
    "collapsed": true
   },
   "outputs": [],
   "source": [
    "reviews = pd.read_csv('yelp_dataset_challenge_academic_dataset/yelp_academic_dataset_review.csv')"
   ]
  },
  {
   "cell_type": "code",
   "execution_count": 5,
   "metadata": {
    "collapsed": false
   },
   "outputs": [],
   "source": [
    "samp = reviews.sample(n=100)"
   ]
  },
  {
   "cell_type": "code",
   "execution_count": 189,
   "metadata": {
    "collapsed": false
   },
   "outputs": [],
   "source": [
    "escapes = ''.join([chr(char) for char in range(1, 32)])\n",
    "removeables = escapes + digits \n",
    "stops = [str(word) for word in stopwords.words('english')] + list(ascii_lowercase)"
   ]
  },
  {
   "cell_type": "code",
   "execution_count": 174,
   "metadata": {
    "collapsed": true
   },
   "outputs": [],
   "source": [
    "text = samp.text.iloc[0]"
   ]
  },
  {
   "cell_type": "code",
   "execution_count": 192,
   "metadata": {
    "collapsed": false
   },
   "outputs": [],
   "source": [
    "def parse_text(text):\n",
    "    text = re.sub(r\"http\\S+\", \" \", text)\n",
    "    regex = re.compile('[%s]' % re.escape(punctuation))\n",
    "    text = regex.sub(' ', text)\n",
    "    text = text.translate(None, removeables)\n",
    "    text = ' '.join([word.lower() for word in text.split() if word.lower() not in set(stops)])\n",
    "    return text"
   ]
  },
  {
   "cell_type": "code",
   "execution_count": 193,
   "metadata": {
    "collapsed": false
   },
   "outputs": [
    {
     "data": {
      "text/plain": [
       "'tried johnny smalls last night meetup group getting table ready us sat bar drink decided ask bartender one personal specialties ended giving something calls naughty irishman didn really watch make looked like primarily jameson bailey crushed ice give props hand crushing ice drink pretty good came typical vegas price tag seated ayce tapas thing per person note technically need hard rock player card get price otherwise based prices item got money worth hand disregard much list item still probably got money worth say tapas mixed bag decent good nothing amazing items would skip good poona tuna started someone mentioned yelp cherry limeade interesting sauce tuna maybe slightly overcooked enjoyed dish jack coke one better items tasty lettuce cups shrimp slightly overcooked picky quite tasty sea bass tried someone else order pretty good favorite tuna sashimi hard mess ahi tuna simple tasty surf turf vanilla butter added strange flavor mix pretty good overall grilled pb found little strange jelly side add still good honestly prefer fried pb elite event republic come grilled pb bad chicken waffles disappointing chicken tasty didn like breading overcooked waffle fries pretty good though octapussy like tapioca batter use skip ugly tater tots might truffle oil smelled tasted like gasoline nauseous view entire tapas menu web site going rounded ok johnny smalls return someone suggested decor trendy definitely tasty items good price'"
      ]
     },
     "execution_count": 193,
     "metadata": {},
     "output_type": "execute_result"
    }
   ],
   "source": [
    "parse_text(text)"
   ]
  },
  {
   "cell_type": "code",
   "execution_count": 93,
   "metadata": {
    "collapsed": false
   },
   "outputs": [],
   "source": []
  },
  {
   "cell_type": "code",
   "execution_count": 98,
   "metadata": {
    "collapsed": false
   },
   "outputs": [],
   "source": []
  },
  {
   "cell_type": "code",
   "execution_count": 99,
   "metadata": {
    "collapsed": false
   },
   "outputs": [
    {
     "data": {
      "text/plain": [
       "'tried johnny smalls last night meetup group getting table ready us sat bar drink decided ask bartender one personal specialties ended giving something calls naughty irishman didnt really watch make looked like primarily jameson baileys crushed ice give props hand crushing ice drink pretty good came typical vegas price tag seated ayce tapas thing per person note technically need hard rock players card get price otherwise based prices item got moneys worth hand disregard much list item still probably got moneys worth id say tapas mixed bag decent good nothing amazing items would skipthe good poona tuna started someone mentioned yelp cherry limeade interesting sauce tuna maybe slightly overcooked enjoyed dish jack coke one better items tasty lettuce cups shrimp slightly overcooked thats picky quite tasty sea bass tried someone elses order pretty good favorite tuna sashimi hard mess ahi tuna simple tasty surf turf vanilla butter added strange flavor mix pretty good overall grilled pbj found little strange jelly side ie add still good honestly prefer fried pbj elite event republic come grilled pbjthe bad chicken waffles disappointing chicken tasty didnt like breading overcooked waffle fries pretty good though octapussy dont like tapioca batter use skipthe ugly tater tots might truffle oil smelled tasted like gasoline nauseousyou view entire tapas menu web site going rounded aok johnny smalls id return someone suggested decor trendy definitely tasty items good price'"
      ]
     },
     "execution_count": 99,
     "metadata": {},
     "output_type": "execute_result"
    }
   ],
   "source": [
    "text"
   ]
  },
  {
   "cell_type": "code",
   "execution_count": 78,
   "metadata": {
    "collapsed": false
   },
   "outputs": [],
   "source": []
  },
  {
   "cell_type": "code",
   "execution_count": 79,
   "metadata": {
    "collapsed": true
   },
   "outputs": [],
   "source": []
  },
  {
   "cell_type": "code",
   "execution_count": 80,
   "metadata": {
    "collapsed": false
   },
   "outputs": [
    {
     "data": {
      "text/plain": [
       "\"their web site: \\n\\nI'm\""
      ]
     },
     "execution_count": 80,
     "metadata": {},
     "output_type": "execute_result"
    }
   ],
   "source": [
    "s"
   ]
  }
 ],
 "metadata": {
  "kernelspec": {
   "display_name": "Python 2",
   "language": "python",
   "name": "python2"
  },
  "language_info": {
   "codemirror_mode": {
    "name": "ipython",
    "version": 2
   },
   "file_extension": ".py",
   "mimetype": "text/x-python",
   "name": "python",
   "nbconvert_exporter": "python",
   "pygments_lexer": "ipython2",
   "version": "2.7.11"
  }
 },
 "nbformat": 4,
 "nbformat_minor": 0
}
