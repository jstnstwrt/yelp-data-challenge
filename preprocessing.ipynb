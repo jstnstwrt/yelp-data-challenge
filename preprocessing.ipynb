{
 "cells": [
  {
   "cell_type": "markdown",
   "metadata": {},
   "source": [
    "# NLP"
   ]
  },
  {
   "cell_type": "code",
   "execution_count": 71,
   "metadata": {
    "collapsed": false
   },
   "outputs": [],
   "source": [
    "import re\n",
    "from string import punctuation, digits, ascii_lowercase\n",
    "\n",
    "import pandas as pd\n",
    "import numpy as np\n",
    "import nltk\n",
    "from nltk.corpus import stopwords\n",
    "import matplotlib.pyplot as plt\n",
    "\n",
    "from sklearn.feature_extraction.text import CountVectorizer,TfidfVectorizer\n",
    "from sklearn.naive_bayes import MultinomialNB\n",
    "from sklearn.cross_validation import (train_test_split,cross_val_score,\n",
    "                                      StratifiedShuffleSplit)\n",
    "from sklearn.dummy import DummyClassifier\n",
    "                                      \n",
    "%matplotlib inline"
   ]
  },
  {
   "cell_type": "code",
   "execution_count": 9,
   "metadata": {
    "collapsed": false
   },
   "outputs": [],
   "source": [
    "reviews = pd.read_csv('yelp_dataset_challenge_academic_dataset/yelp_academic_dataset_review.csv')"
   ]
  },
  {
   "cell_type": "code",
   "execution_count": 123,
   "metadata": {
    "collapsed": false
   },
   "outputs": [
    {
     "data": {
      "text/html": [
       "<div>\n",
       "<table border=\"1\" class=\"dataframe\">\n",
       "  <thead>\n",
       "    <tr style=\"text-align: right;\">\n",
       "      <th></th>\n",
       "      <th>user_id</th>\n",
       "      <th>review_id</th>\n",
       "      <th>text</th>\n",
       "      <th>votes.cool</th>\n",
       "      <th>business_id</th>\n",
       "      <th>votes.funny</th>\n",
       "      <th>date</th>\n",
       "      <th>type</th>\n",
       "      <th>votes.useful</th>\n",
       "    </tr>\n",
       "    <tr>\n",
       "      <th>stars</th>\n",
       "      <th></th>\n",
       "      <th></th>\n",
       "      <th></th>\n",
       "      <th></th>\n",
       "      <th></th>\n",
       "      <th></th>\n",
       "      <th></th>\n",
       "      <th></th>\n",
       "      <th></th>\n",
       "    </tr>\n",
       "  </thead>\n",
       "  <tbody>\n",
       "    <tr>\n",
       "      <th>1</th>\n",
       "      <td>260492</td>\n",
       "      <td>260492</td>\n",
       "      <td>260492</td>\n",
       "      <td>260492</td>\n",
       "      <td>260492</td>\n",
       "      <td>260492</td>\n",
       "      <td>260492</td>\n",
       "      <td>260492</td>\n",
       "      <td>260492</td>\n",
       "    </tr>\n",
       "    <tr>\n",
       "      <th>2</th>\n",
       "      <td>190048</td>\n",
       "      <td>190048</td>\n",
       "      <td>190048</td>\n",
       "      <td>190048</td>\n",
       "      <td>190048</td>\n",
       "      <td>190048</td>\n",
       "      <td>190048</td>\n",
       "      <td>190048</td>\n",
       "      <td>190048</td>\n",
       "    </tr>\n",
       "    <tr>\n",
       "      <th>3</th>\n",
       "      <td>282115</td>\n",
       "      <td>282115</td>\n",
       "      <td>282115</td>\n",
       "      <td>282115</td>\n",
       "      <td>282115</td>\n",
       "      <td>282115</td>\n",
       "      <td>282115</td>\n",
       "      <td>282115</td>\n",
       "      <td>282115</td>\n",
       "    </tr>\n",
       "    <tr>\n",
       "      <th>4</th>\n",
       "      <td>591618</td>\n",
       "      <td>591618</td>\n",
       "      <td>591618</td>\n",
       "      <td>591618</td>\n",
       "      <td>591618</td>\n",
       "      <td>591618</td>\n",
       "      <td>591618</td>\n",
       "      <td>591618</td>\n",
       "      <td>591618</td>\n",
       "    </tr>\n",
       "    <tr>\n",
       "      <th>5</th>\n",
       "      <td>900940</td>\n",
       "      <td>900940</td>\n",
       "      <td>900940</td>\n",
       "      <td>900940</td>\n",
       "      <td>900940</td>\n",
       "      <td>900940</td>\n",
       "      <td>900940</td>\n",
       "      <td>900940</td>\n",
       "      <td>900940</td>\n",
       "    </tr>\n",
       "  </tbody>\n",
       "</table>\n",
       "</div>"
      ],
      "text/plain": [
       "       user_id  review_id    text  votes.cool  business_id  votes.funny  \\\n",
       "stars                                                                     \n",
       "1       260492     260492  260492      260492       260492       260492   \n",
       "2       190048     190048  190048      190048       190048       190048   \n",
       "3       282115     282115  282115      282115       282115       282115   \n",
       "4       591618     591618  591618      591618       591618       591618   \n",
       "5       900940     900940  900940      900940       900940       900940   \n",
       "\n",
       "         date    type  votes.useful  \n",
       "stars                                \n",
       "1      260492  260492        260492  \n",
       "2      190048  190048        190048  \n",
       "3      282115  282115        282115  \n",
       "4      591618  591618        591618  \n",
       "5      900940  900940        900940  "
      ]
     },
     "execution_count": 123,
     "metadata": {},
     "output_type": "execute_result"
    }
   ],
   "source": [
    "reviews.groupby(['stars']).count()"
   ]
  },
  {
   "cell_type": "code",
   "execution_count": 124,
   "metadata": {
    "collapsed": true
   },
   "outputs": [],
   "source": [
    "a = [260492,190048,282115,591618,900940]"
   ]
  },
  {
   "cell_type": "code",
   "execution_count": 127,
   "metadata": {
    "collapsed": false
   },
   "outputs": [
    {
     "data": {
      "text/plain": [
       "[0.11706384961799163,\n",
       " 0.0854066554527589,\n",
       " 0.1267811216274577,\n",
       " 0.2658702784857,\n",
       " 0.40487809481609177]"
      ]
     },
     "execution_count": 127,
     "metadata": {},
     "output_type": "execute_result"
    }
   ],
   "source": [
    "[float(i)/sum(a) for i in a]"
   ]
  },
  {
   "cell_type": "code",
   "execution_count": 10,
   "metadata": {
    "collapsed": false
   },
   "outputs": [],
   "source": [
    "samp = reviews.sample(n=10000)"
   ]
  },
  {
   "cell_type": "markdown",
   "metadata": {},
   "source": [
    "Define lists of escape sequences, digits, stopwords to use for parseing. Also defines the type of stemming to be used. "
   ]
  },
  {
   "cell_type": "code",
   "execution_count": 11,
   "metadata": {
    "collapsed": false
   },
   "outputs": [],
   "source": [
    "escapes = ''.join([chr(char) for char in range(1, 32)])\n",
    "removeables = escapes + digits \n",
    "stops = [str(word) for word in stopwords.words('english')] + list(ascii_lowercase)\n",
    "sno = nltk.stem.SnowballStemmer('english')"
   ]
  },
  {
   "cell_type": "markdown",
   "metadata": {},
   "source": [
    "Create function to process the text and then use it to make a new coloumn in the dataframe where all texted has been processed. "
   ]
  },
  {
   "cell_type": "code",
   "execution_count": 12,
   "metadata": {
    "collapsed": false
   },
   "outputs": [],
   "source": [
    "def parse_text(text, stem=True):\n",
    "    ''' This function takes a review string and removes all escape sequences,\n",
    "        digits, punctuation, http links, and stop words. Furthermore, every\n",
    "        word in the string will be stemmed using nltk's snowball stemmer.\n",
    "        Every word is also transformed to be lowercase.'''\n",
    "    \n",
    "    text = re.sub(r\"http\\S+\", \" \", text)\n",
    "    regex = re.compile('[%s]' % re.escape(punctuation))\n",
    "    text = regex.sub(' ', text)\n",
    "    text = text.translate(None, removeables)\n",
    "    text = text.decode('utf8')\n",
    "    if stem == True:\n",
    "        text = ' '.join([sno.stem(word.lower()) for word in text.split() if word.lower() not in set(stops)])\n",
    "    else:\n",
    "        text = ' '.join([word.lower() for word in text.split() if word.lower() not in set(stops)])\n",
    "    return text"
   ]
  },
  {
   "cell_type": "code",
   "execution_count": 13,
   "metadata": {
    "collapsed": false
   },
   "outputs": [],
   "source": [
    "samp['parsed_text']=samp.text.apply(parse_text,stem=False)"
   ]
  },
  {
   "cell_type": "markdown",
   "metadata": {},
   "source": [
    "### Bag of words, tf-idf vectorization\n",
    "Create the bag of words representation. Find counts of each word in document and in whole courpus. Then create the tfidf representation. Worth also considering binary count vecorizing, supposed to work better for smaller sample sets."
   ]
  },
  {
   "cell_type": "code",
   "execution_count": 14,
   "metadata": {
    "collapsed": false
   },
   "outputs": [],
   "source": [
    "corpus = samp.parsed_text.tolist()"
   ]
  },
  {
   "cell_type": "code",
   "execution_count": 15,
   "metadata": {
    "collapsed": false
   },
   "outputs": [],
   "source": [
    "count_vect = CountVectorizer()\n",
    "X_counts = count_vect.fit_transform(corpus)"
   ]
  },
  {
   "cell_type": "code",
   "execution_count": 16,
   "metadata": {
    "collapsed": false
   },
   "outputs": [],
   "source": [
    "words = count_vect.get_feature_names()"
   ]
  },
  {
   "cell_type": "code",
   "execution_count": null,
   "metadata": {
    "collapsed": false
   },
   "outputs": [],
   "source": [
    "# len(words) = 20197"
   ]
  },
  {
   "cell_type": "markdown",
   "metadata": {},
   "source": [
    "### Exploring count data"
   ]
  },
  {
   "cell_type": "code",
   "execution_count": 17,
   "metadata": {
    "collapsed": true
   },
   "outputs": [],
   "source": [
    "stars = samp.stars.reshape(10000,1)\n",
    "counts = X_counts.toarray()"
   ]
  },
  {
   "cell_type": "code",
   "execution_count": 18,
   "metadata": {
    "collapsed": false
   },
   "outputs": [],
   "source": [
    "C = np.concatenate((stars,counts),axis=1)"
   ]
  },
  {
   "cell_type": "code",
   "execution_count": 19,
   "metadata": {
    "collapsed": false
   },
   "outputs": [],
   "source": [
    "df = pd.DataFrame(C)"
   ]
  },
  {
   "cell_type": "code",
   "execution_count": 20,
   "metadata": {
    "collapsed": false
   },
   "outputs": [],
   "source": [
    "df.columns = ['star_rating'] + words"
   ]
  },
  {
   "cell_type": "code",
   "execution_count": 21,
   "metadata": {
    "collapsed": false
   },
   "outputs": [],
   "source": [
    "star_counts = dict(samp.stars.value_counts())"
   ]
  },
  {
   "cell_type": "code",
   "execution_count": 22,
   "metadata": {
    "collapsed": false
   },
   "outputs": [],
   "source": [
    "groups = df.groupby(['star_rating']).sum().T"
   ]
  },
  {
   "cell_type": "code",
   "execution_count": 23,
   "metadata": {
    "collapsed": false
   },
   "outputs": [],
   "source": [
    "for k,v in star_counts.items():\n",
    "    groups[k] = groups[k]/v"
   ]
  },
  {
   "cell_type": "code",
   "execution_count": 34,
   "metadata": {
    "collapsed": false
   },
   "outputs": [
    {
     "name": "stderr",
     "output_type": "stream",
     "text": [
      "/Users/justinstewart/anaconda2/lib/python2.7/site-packages/ipykernel/__main__.py:1: FutureWarning: sort(columns=....) is deprecated, use sort_values(by=.....)\n",
      "  if __name__ == '__main__':\n"
     ]
    },
    {
     "data": {
      "text/html": [
       "<div>\n",
       "<table border=\"1\" class=\"dataframe\">\n",
       "  <thead>\n",
       "    <tr style=\"text-align: right;\">\n",
       "      <th>star_rating</th>\n",
       "      <th>1</th>\n",
       "      <th>2</th>\n",
       "      <th>3</th>\n",
       "      <th>4</th>\n",
       "      <th>5</th>\n",
       "    </tr>\n",
       "  </thead>\n",
       "  <tbody>\n",
       "    <tr>\n",
       "      <th>great</th>\n",
       "      <td>0.114424</td>\n",
       "      <td>0.237089</td>\n",
       "      <td>0.353175</td>\n",
       "      <td>0.539394</td>\n",
       "      <td>0.583479</td>\n",
       "    </tr>\n",
       "    <tr>\n",
       "      <th>place</th>\n",
       "      <td>0.500403</td>\n",
       "      <td>0.647887</td>\n",
       "      <td>0.584921</td>\n",
       "      <td>0.574242</td>\n",
       "      <td>0.496132</td>\n",
       "    </tr>\n",
       "    <tr>\n",
       "      <th>food</th>\n",
       "      <td>0.534247</td>\n",
       "      <td>0.793427</td>\n",
       "      <td>0.680159</td>\n",
       "      <td>0.562121</td>\n",
       "      <td>0.436736</td>\n",
       "    </tr>\n",
       "    <tr>\n",
       "      <th>good</th>\n",
       "      <td>0.280419</td>\n",
       "      <td>0.637324</td>\n",
       "      <td>0.867460</td>\n",
       "      <td>0.721970</td>\n",
       "      <td>0.389069</td>\n",
       "    </tr>\n",
       "    <tr>\n",
       "      <th>time</th>\n",
       "      <td>0.445608</td>\n",
       "      <td>0.444836</td>\n",
       "      <td>0.367460</td>\n",
       "      <td>0.307197</td>\n",
       "      <td>0.329174</td>\n",
       "    </tr>\n",
       "    <tr>\n",
       "      <th>service</th>\n",
       "      <td>0.438356</td>\n",
       "      <td>0.484742</td>\n",
       "      <td>0.353175</td>\n",
       "      <td>0.313258</td>\n",
       "      <td>0.316446</td>\n",
       "    </tr>\n",
       "    <tr>\n",
       "      <th>like</th>\n",
       "      <td>0.402901</td>\n",
       "      <td>0.610329</td>\n",
       "      <td>0.541270</td>\n",
       "      <td>0.430682</td>\n",
       "      <td>0.309209</td>\n",
       "    </tr>\n",
       "    <tr>\n",
       "      <th>one</th>\n",
       "      <td>0.467365</td>\n",
       "      <td>0.471831</td>\n",
       "      <td>0.383333</td>\n",
       "      <td>0.358333</td>\n",
       "      <td>0.284253</td>\n",
       "    </tr>\n",
       "    <tr>\n",
       "      <th>best</th>\n",
       "      <td>0.064464</td>\n",
       "      <td>0.123239</td>\n",
       "      <td>0.134127</td>\n",
       "      <td>0.158712</td>\n",
       "      <td>0.282256</td>\n",
       "    </tr>\n",
       "    <tr>\n",
       "      <th>love</th>\n",
       "      <td>0.044319</td>\n",
       "      <td>0.116197</td>\n",
       "      <td>0.114286</td>\n",
       "      <td>0.167045</td>\n",
       "      <td>0.273272</td>\n",
       "    </tr>\n",
       "    <tr>\n",
       "      <th>get</th>\n",
       "      <td>0.509267</td>\n",
       "      <td>0.525822</td>\n",
       "      <td>0.441270</td>\n",
       "      <td>0.348106</td>\n",
       "      <td>0.267781</td>\n",
       "    </tr>\n",
       "    <tr>\n",
       "      <th>back</th>\n",
       "      <td>0.432716</td>\n",
       "      <td>0.408451</td>\n",
       "      <td>0.268254</td>\n",
       "      <td>0.265909</td>\n",
       "      <td>0.250562</td>\n",
       "    </tr>\n",
       "    <tr>\n",
       "      <th>go</th>\n",
       "      <td>0.372280</td>\n",
       "      <td>0.373239</td>\n",
       "      <td>0.328571</td>\n",
       "      <td>0.295833</td>\n",
       "      <td>0.246319</td>\n",
       "    </tr>\n",
       "    <tr>\n",
       "      <th>also</th>\n",
       "      <td>0.138598</td>\n",
       "      <td>0.215962</td>\n",
       "      <td>0.253175</td>\n",
       "      <td>0.273864</td>\n",
       "      <td>0.226354</td>\n",
       "    </tr>\n",
       "    <tr>\n",
       "      <th>really</th>\n",
       "      <td>0.195004</td>\n",
       "      <td>0.366197</td>\n",
       "      <td>0.404762</td>\n",
       "      <td>0.329167</td>\n",
       "      <td>0.223609</td>\n",
       "    </tr>\n",
       "    <tr>\n",
       "      <th>ve</th>\n",
       "      <td>0.183723</td>\n",
       "      <td>0.221831</td>\n",
       "      <td>0.215079</td>\n",
       "      <td>0.218561</td>\n",
       "      <td>0.216870</td>\n",
       "    </tr>\n",
       "    <tr>\n",
       "      <th>amazing</th>\n",
       "      <td>0.024980</td>\n",
       "      <td>0.029343</td>\n",
       "      <td>0.053968</td>\n",
       "      <td>0.103409</td>\n",
       "      <td>0.213876</td>\n",
       "    </tr>\n",
       "    <tr>\n",
       "      <th>always</th>\n",
       "      <td>0.066882</td>\n",
       "      <td>0.104460</td>\n",
       "      <td>0.119841</td>\n",
       "      <td>0.182197</td>\n",
       "      <td>0.211380</td>\n",
       "    </tr>\n",
       "    <tr>\n",
       "      <th>would</th>\n",
       "      <td>0.514102</td>\n",
       "      <td>0.467136</td>\n",
       "      <td>0.419048</td>\n",
       "      <td>0.271212</td>\n",
       "      <td>0.196406</td>\n",
       "    </tr>\n",
       "    <tr>\n",
       "      <th>well</th>\n",
       "      <td>0.159549</td>\n",
       "      <td>0.180751</td>\n",
       "      <td>0.205556</td>\n",
       "      <td>0.221591</td>\n",
       "      <td>0.194659</td>\n",
       "    </tr>\n",
       "    <tr>\n",
       "      <th>friendly</th>\n",
       "      <td>0.033844</td>\n",
       "      <td>0.109155</td>\n",
       "      <td>0.103175</td>\n",
       "      <td>0.161364</td>\n",
       "      <td>0.176940</td>\n",
       "    </tr>\n",
       "    <tr>\n",
       "      <th>even</th>\n",
       "      <td>0.331990</td>\n",
       "      <td>0.266432</td>\n",
       "      <td>0.172222</td>\n",
       "      <td>0.174242</td>\n",
       "      <td>0.173946</td>\n",
       "    </tr>\n",
       "    <tr>\n",
       "      <th>staff</th>\n",
       "      <td>0.136180</td>\n",
       "      <td>0.134977</td>\n",
       "      <td>0.130159</td>\n",
       "      <td>0.145833</td>\n",
       "      <td>0.161218</td>\n",
       "    </tr>\n",
       "    <tr>\n",
       "      <th>delicious</th>\n",
       "      <td>0.011281</td>\n",
       "      <td>0.035211</td>\n",
       "      <td>0.075397</td>\n",
       "      <td>0.160985</td>\n",
       "      <td>0.159970</td>\n",
       "    </tr>\n",
       "    <tr>\n",
       "      <th>nice</th>\n",
       "      <td>0.094279</td>\n",
       "      <td>0.228873</td>\n",
       "      <td>0.308730</td>\n",
       "      <td>0.269318</td>\n",
       "      <td>0.159471</td>\n",
       "    </tr>\n",
       "    <tr>\n",
       "      <th>vegas</th>\n",
       "      <td>0.103948</td>\n",
       "      <td>0.136150</td>\n",
       "      <td>0.117460</td>\n",
       "      <td>0.135606</td>\n",
       "      <td>0.158972</td>\n",
       "    </tr>\n",
       "    <tr>\n",
       "      <th>us</th>\n",
       "      <td>0.364222</td>\n",
       "      <td>0.340376</td>\n",
       "      <td>0.226984</td>\n",
       "      <td>0.166667</td>\n",
       "      <td>0.153481</td>\n",
       "    </tr>\n",
       "    <tr>\n",
       "      <th>first</th>\n",
       "      <td>0.199839</td>\n",
       "      <td>0.227700</td>\n",
       "      <td>0.183333</td>\n",
       "      <td>0.137879</td>\n",
       "      <td>0.150736</td>\n",
       "    </tr>\n",
       "    <tr>\n",
       "      <th>definitely</th>\n",
       "      <td>0.038678</td>\n",
       "      <td>0.092723</td>\n",
       "      <td>0.109524</td>\n",
       "      <td>0.171970</td>\n",
       "      <td>0.148490</td>\n",
       "    </tr>\n",
       "    <tr>\n",
       "      <th>try</th>\n",
       "      <td>0.105560</td>\n",
       "      <td>0.160798</td>\n",
       "      <td>0.195238</td>\n",
       "      <td>0.171591</td>\n",
       "      <td>0.147492</td>\n",
       "    </tr>\n",
       "  </tbody>\n",
       "</table>\n",
       "</div>"
      ],
      "text/plain": [
       "star_rating         1         2         3         4         5\n",
       "great        0.114424  0.237089  0.353175  0.539394  0.583479\n",
       "place        0.500403  0.647887  0.584921  0.574242  0.496132\n",
       "food         0.534247  0.793427  0.680159  0.562121  0.436736\n",
       "good         0.280419  0.637324  0.867460  0.721970  0.389069\n",
       "time         0.445608  0.444836  0.367460  0.307197  0.329174\n",
       "service      0.438356  0.484742  0.353175  0.313258  0.316446\n",
       "like         0.402901  0.610329  0.541270  0.430682  0.309209\n",
       "one          0.467365  0.471831  0.383333  0.358333  0.284253\n",
       "best         0.064464  0.123239  0.134127  0.158712  0.282256\n",
       "love         0.044319  0.116197  0.114286  0.167045  0.273272\n",
       "get          0.509267  0.525822  0.441270  0.348106  0.267781\n",
       "back         0.432716  0.408451  0.268254  0.265909  0.250562\n",
       "go           0.372280  0.373239  0.328571  0.295833  0.246319\n",
       "also         0.138598  0.215962  0.253175  0.273864  0.226354\n",
       "really       0.195004  0.366197  0.404762  0.329167  0.223609\n",
       "ve           0.183723  0.221831  0.215079  0.218561  0.216870\n",
       "amazing      0.024980  0.029343  0.053968  0.103409  0.213876\n",
       "always       0.066882  0.104460  0.119841  0.182197  0.211380\n",
       "would        0.514102  0.467136  0.419048  0.271212  0.196406\n",
       "well         0.159549  0.180751  0.205556  0.221591  0.194659\n",
       "friendly     0.033844  0.109155  0.103175  0.161364  0.176940\n",
       "even         0.331990  0.266432  0.172222  0.174242  0.173946\n",
       "staff        0.136180  0.134977  0.130159  0.145833  0.161218\n",
       "delicious    0.011281  0.035211  0.075397  0.160985  0.159970\n",
       "nice         0.094279  0.228873  0.308730  0.269318  0.159471\n",
       "vegas        0.103948  0.136150  0.117460  0.135606  0.158972\n",
       "us           0.364222  0.340376  0.226984  0.166667  0.153481\n",
       "first        0.199839  0.227700  0.183333  0.137879  0.150736\n",
       "definitely   0.038678  0.092723  0.109524  0.171970  0.148490\n",
       "try          0.105560  0.160798  0.195238  0.171591  0.147492"
      ]
     },
     "execution_count": 34,
     "metadata": {},
     "output_type": "execute_result"
    }
   ],
   "source": [
    "groups.sort([5],ascending=False).head(30)"
   ]
  },
  {
   "cell_type": "markdown",
   "metadata": {},
   "source": [
    "### TFIDF"
   ]
  },
  {
   "cell_type": "code",
   "execution_count": 35,
   "metadata": {
    "collapsed": false
   },
   "outputs": [],
   "source": [
    "vectorizer = TfidfVectorizer(min_df=1)\n",
    "X_tfidf = vectorizer.fit_transform(corpus)"
   ]
  },
  {
   "cell_type": "code",
   "execution_count": 36,
   "metadata": {
    "collapsed": true
   },
   "outputs": [],
   "source": [
    "tfidfs = X_tfidf.toarray()\n",
    "T = np.concatenate((stars,tfidfs),axis=1)\n",
    "df_tfidf = pd.DataFrame(T)\n",
    "df_tfidf.columns = ['star_rating'] + words\n",
    "tfidf_groups = df.groupby(['star_rating']).sum().T\n"
   ]
  },
  {
   "cell_type": "code",
   "execution_count": 28,
   "metadata": {
    "collapsed": true
   },
   "outputs": [],
   "source": [
    "for k,v in star_counts.items():\n",
    "    tfidf_groups[k] = tfidf_groups[k]/v"
   ]
  },
  {
   "cell_type": "code",
   "execution_count": 37,
   "metadata": {
    "collapsed": true
   },
   "outputs": [],
   "source": [
    "y = np.array(samp.stars.tolist())"
   ]
  },
  {
   "cell_type": "markdown",
   "metadata": {},
   "source": [
    "### test "
   ]
  },
  {
   "cell_type": "code",
   "execution_count": 129,
   "metadata": {
    "collapsed": false
   },
   "outputs": [],
   "source": [
    "test = df[['great','good','service']]"
   ]
  },
  {
   "cell_type": "code",
   "execution_count": 130,
   "metadata": {
    "collapsed": false
   },
   "outputs": [
    {
     "data": {
      "text/plain": [
       "(10000, 3)"
      ]
     },
     "execution_count": 130,
     "metadata": {},
     "output_type": "execute_result"
    }
   ],
   "source": [
    "test.shape"
   ]
  },
  {
   "cell_type": "code",
   "execution_count": 131,
   "metadata": {
    "collapsed": true
   },
   "outputs": [],
   "source": [
    "X_train, X_test, y_train, y_test = train_test_split(test,y,test_size=.30,\n",
    "                                                    stratify=y)"
   ]
  },
  {
   "cell_type": "code",
   "execution_count": 146,
   "metadata": {
    "collapsed": true
   },
   "outputs": [],
   "source": [
    "mnb = MultinomialNB(fit_prior=False).fit(X_train,y_train)"
   ]
  },
  {
   "cell_type": "code",
   "execution_count": 147,
   "metadata": {
    "collapsed": true
   },
   "outputs": [],
   "source": [
    "probs = mnb.feature_log_prob_"
   ]
  },
  {
   "cell_type": "code",
   "execution_count": 148,
   "metadata": {
    "collapsed": true
   },
   "outputs": [],
   "source": [
    "preds = mnb.predict(X_test)"
   ]
  },
  {
   "cell_type": "code",
   "execution_count": 149,
   "metadata": {
    "collapsed": false
   },
   "outputs": [
    {
     "data": {
      "text/plain": [
       "0.29299999999999998"
      ]
     },
     "execution_count": 149,
     "metadata": {},
     "output_type": "execute_result"
    }
   ],
   "source": [
    "mnb.score(X_test,y_test)"
   ]
  },
  {
   "cell_type": "code",
   "execution_count": 152,
   "metadata": {
    "collapsed": false
   },
   "outputs": [
    {
     "name": "stdout",
     "output_type": "stream",
     "text": [
      "[5 4 5 5 2 4 4 5 1 3]\n",
      "[5 1 3 1 1 1 1 5 1 1]\n",
      "[[-1.91163675 -1.13265813 -0.63490459]\n",
      " [-1.74070981 -0.75727978 -1.03376931]\n",
      " [-1.47310856 -0.5921345  -1.52490007]\n",
      " [-1.06594395 -0.76960167 -1.64817945]\n",
      " [-0.80245211 -1.16474505 -1.42807809]]\n",
      "[ 0.2  0.2  0.2  0.2  0.2]\n",
      "    great  good  service\n",
      "15      0     1        1\n",
      "16      0     0        0\n",
      "17      0     0        0\n",
      "18      1     1        0\n",
      "19      2     0        0\n",
      "20      0     0        0\n",
      "21      0     0        0\n",
      "22      1     1        0\n",
      "23      0     1        0\n",
      "24      0     0        0\n"
     ]
    }
   ],
   "source": [
    "print y_test[15:25]\n",
    "print preds [15:25]\n",
    "print probs\n",
    "print np.exp(mnb.class_log_prior_)\n",
    "print test[15:25]\n"
   ]
  },
  {
   "cell_type": "code",
   "execution_count": 135,
   "metadata": {
    "collapsed": false
   },
   "outputs": [
    {
     "data": {
      "text/plain": [
       "<matplotlib.axes._subplots.AxesSubplot at 0x155963590>"
      ]
     },
     "execution_count": 135,
     "metadata": {},
     "output_type": "execute_result"
    },
    {
     "data": {
      "image/png": "[encoded data removed]",
      "text/plain": [
       "<matplotlib.figure.Figure at 0x163ea8290>"
      ]
     },
     "metadata": {},
     "output_type": "display_data"
    }
   ],
   "source": [
    "pd.Series(preds).hist()"
   ]
  },
  {
   "cell_type": "markdown",
   "metadata": {},
   "source": [
    "### inspect the errors. "
   ]
  },
  {
   "cell_type": "markdown",
   "metadata": {},
   "source": [
    "see where the model is getting it wrong. look at the actual text that is giving rise to the incorrect predictions, and see if you can get some intuitions about why it is getting it wrong. you can then possibly create new features to capture these effects. "
   ]
  },
  {
   "cell_type": "markdown",
   "metadata": {},
   "source": [
    "additionally, it would be very interesting to cluster words based on their characteristics fns. this should create a cluster for pos, neg, neural, and avergae. would be very interesting to present. further it could help smooth out the signal if instead of count vecotrizing based on if word exists, but rather if word in cluster exists. could just clean up the analysis."
   ]
  },
  {
   "cell_type": "markdown",
   "metadata": {},
   "source": [
    "also, think about correcting the prior using the prior from the complete data set, instead of just the sample. "
   ]
  },
  {
   "cell_type": "code",
   "execution_count": null,
   "metadata": {
    "collapsed": true
   },
   "outputs": [],
   "source": []
  },
  {
   "cell_type": "markdown",
   "metadata": {},
   "source": [
    "### Train-Test split\n",
    "\n",
    "Need to split the dataset into train and test, then use cross val to traing the classifier."
   ]
  },
  {
   "cell_type": "code",
   "execution_count": 111,
   "metadata": {
    "collapsed": false
   },
   "outputs": [],
   "source": [
    "X_train, X_test, y_train, y_test = train_test_split(X_counts,y,test_size=.30,\n",
    "                                                    stratify=y)"
   ]
  },
  {
   "cell_type": "code",
   "execution_count": null,
   "metadata": {
    "collapsed": true
   },
   "outputs": [],
   "source": [
    "sss = StratifiedShuffleSplit(y_train, 5, test_size=0.3, random_state=0)"
   ]
  },
  {
   "cell_type": "markdown",
   "metadata": {},
   "source": [
    "# Training a classifier"
   ]
  },
  {
   "cell_type": "markdown",
   "metadata": {},
   "source": [
    "### true values"
   ]
  },
  {
   "cell_type": "code",
   "execution_count": 110,
   "metadata": {
    "collapsed": false
   },
   "outputs": [
    {
     "data": {
      "text/plain": [
       "<matplotlib.axes._subplots.AxesSubplot at 0x121435150>"
      ]
     },
     "execution_count": 110,
     "metadata": {},
     "output_type": "execute_result"
    },
    {
     "data": {
      "image/png": "[encoded data removed]",
      "text/plain": [
       "<matplotlib.figure.Figure at 0x1214145d0>"
      ]
     },
     "metadata": {},
     "output_type": "display_data"
    }
   ],
   "source": [
    "pd.Series(y_test).hist()"
   ]
  },
  {
   "cell_type": "markdown",
   "metadata": {},
   "source": [
    "### baseline model - random"
   ]
  },
  {
   "cell_type": "code",
   "execution_count": 76,
   "metadata": {
    "collapsed": true
   },
   "outputs": [],
   "source": [
    "dummy = DummyClassifier(strategy='stratified', random_state=1) "
   ]
  },
  {
   "cell_type": "code",
   "execution_count": 77,
   "metadata": {
    "collapsed": false
   },
   "outputs": [
    {
     "data": {
      "text/plain": [
       "DummyClassifier(constant=None, random_state=1, strategy='stratified')"
      ]
     },
     "execution_count": 77,
     "metadata": {},
     "output_type": "execute_result"
    }
   ],
   "source": [
    "dummy.fit(X_train,y_train)"
   ]
  },
  {
   "cell_type": "code",
   "execution_count": 80,
   "metadata": {
    "collapsed": true
   },
   "outputs": [],
   "source": [
    "preds = dummy.predict(X_test)"
   ]
  },
  {
   "cell_type": "code",
   "execution_count": 81,
   "metadata": {
    "collapsed": false
   },
   "outputs": [
    {
     "data": {
      "text/plain": [
       "0.26700000000000002"
      ]
     },
     "execution_count": 81,
     "metadata": {},
     "output_type": "execute_result"
    }
   ],
   "source": [
    "dummy.score(X_test,y_test)"
   ]
  },
  {
   "cell_type": "code",
   "execution_count": 79,
   "metadata": {
    "collapsed": false
   },
   "outputs": [
    {
     "data": {
      "text/plain": [
       "<matplotlib.axes._subplots.AxesSubplot at 0x11d705910>"
      ]
     },
     "execution_count": 79,
     "metadata": {},
     "output_type": "execute_result"
    },
    {
     "data": {
      "image/png": "[encoded data removed]",
      "text/plain": [
       "<matplotlib.figure.Figure at 0x12f5e7610>"
      ]
     },
     "metadata": {},
     "output_type": "display_data"
    }
   ],
   "source": [
    "pd.Series(preds).hist()"
   ]
  },
  {
   "cell_type": "markdown",
   "metadata": {},
   "source": [
    "### baseline - highest frequency"
   ]
  },
  {
   "cell_type": "code",
   "execution_count": 100,
   "metadata": {
    "collapsed": true
   },
   "outputs": [],
   "source": [
    "dummy = DummyClassifier(strategy='most_frequent', random_state=1) "
   ]
  },
  {
   "cell_type": "code",
   "execution_count": 101,
   "metadata": {
    "collapsed": false
   },
   "outputs": [
    {
     "data": {
      "text/plain": [
       "DummyClassifier(constant=None, random_state=1, strategy='most_frequent')"
      ]
     },
     "execution_count": 101,
     "metadata": {},
     "output_type": "execute_result"
    }
   ],
   "source": [
    "dummy.fit(X_train,y_train)"
   ]
  },
  {
   "cell_type": "code",
   "execution_count": 102,
   "metadata": {
    "collapsed": true
   },
   "outputs": [],
   "source": [
    "preds = dummy.predict(X_test)"
   ]
  },
  {
   "cell_type": "code",
   "execution_count": 103,
   "metadata": {
    "collapsed": false
   },
   "outputs": [
    {
     "data": {
      "text/plain": [
       "0.40066666666666667"
      ]
     },
     "execution_count": 103,
     "metadata": {},
     "output_type": "execute_result"
    }
   ],
   "source": [
    "dummy.score(X_test,y_test)"
   ]
  },
  {
   "cell_type": "code",
   "execution_count": 104,
   "metadata": {
    "collapsed": false
   },
   "outputs": [
    {
     "data": {
      "text/plain": [
       "<matplotlib.axes._subplots.AxesSubplot at 0x184ff9e90>"
      ]
     },
     "execution_count": 104,
     "metadata": {},
     "output_type": "execute_result"
    },
    {
     "data": {
      "image/png": "[encoded data removed]",
      "text/plain": [
       "<matplotlib.figure.Figure at 0x167fdee10>"
      ]
     },
     "metadata": {},
     "output_type": "display_data"
    }
   ],
   "source": [
    "pd.Series(preds).hist()"
   ]
  },
  {
   "cell_type": "markdown",
   "metadata": {},
   "source": [
    "### informed prior"
   ]
  },
  {
   "cell_type": "code",
   "execution_count": 112,
   "metadata": {
    "collapsed": true
   },
   "outputs": [],
   "source": [
    "mnb = MultinomialNB(fit_prior=True).fit(X_train,y_train)"
   ]
  },
  {
   "cell_type": "code",
   "execution_count": 113,
   "metadata": {
    "collapsed": false
   },
   "outputs": [
    {
     "data": {
      "text/plain": [
       "array([ 0.12414286,  0.08514286,  0.126     ,  0.264     ,  0.40071429])"
      ]
     },
     "execution_count": 113,
     "metadata": {},
     "output_type": "execute_result"
    }
   ],
   "source": [
    "np.exp(mnb.class_log_prior_)"
   ]
  },
  {
   "cell_type": "code",
   "execution_count": 114,
   "metadata": {
    "collapsed": false
   },
   "outputs": [],
   "source": [
    "preds = mnb.predict(X_test)"
   ]
  },
  {
   "cell_type": "code",
   "execution_count": 115,
   "metadata": {
    "collapsed": false
   },
   "outputs": [
    {
     "data": {
      "text/plain": [
       "0.54000000000000004"
      ]
     },
     "execution_count": 115,
     "metadata": {},
     "output_type": "execute_result"
    }
   ],
   "source": [
    "mnb.score(X_test,y_test)"
   ]
  },
  {
   "cell_type": "code",
   "execution_count": 116,
   "metadata": {
    "collapsed": false
   },
   "outputs": [
    {
     "data": {
      "text/plain": [
       "<matplotlib.axes._subplots.AxesSubplot at 0x1813cbed0>"
      ]
     },
     "execution_count": 116,
     "metadata": {},
     "output_type": "execute_result"
    },
    {
     "data": {
      "image/png": "[encoded data removed]",
      "text/plain": [
       "<matplotlib.figure.Figure at 0x124d0ee10>"
      ]
     },
     "metadata": {},
     "output_type": "display_data"
    }
   ],
   "source": [
    "pd.Series(preds).hist()"
   ]
  },
  {
   "cell_type": "markdown",
   "metadata": {},
   "source": [
    "### uniformative prior"
   ]
  },
  {
   "cell_type": "code",
   "execution_count": 117,
   "metadata": {
    "collapsed": true
   },
   "outputs": [],
   "source": [
    "mnb = MultinomialNB(fit_prior=False).fit(X_train,y_train)"
   ]
  },
  {
   "cell_type": "code",
   "execution_count": 106,
   "metadata": {
    "collapsed": false
   },
   "outputs": [
    {
     "data": {
      "text/plain": [
       "array([ 0.2,  0.2,  0.2,  0.2,  0.2])"
      ]
     },
     "execution_count": 106,
     "metadata": {},
     "output_type": "execute_result"
    }
   ],
   "source": [
    "np.exp(mnb.class_log_prior_)"
   ]
  },
  {
   "cell_type": "code",
   "execution_count": 118,
   "metadata": {
    "collapsed": true
   },
   "outputs": [],
   "source": [
    "preds = mnb.predict(X_test)"
   ]
  },
  {
   "cell_type": "code",
   "execution_count": 119,
   "metadata": {
    "collapsed": false
   },
   "outputs": [
    {
     "data": {
      "text/plain": [
       "0.54366666666666663"
      ]
     },
     "execution_count": 119,
     "metadata": {},
     "output_type": "execute_result"
    }
   ],
   "source": [
    "mnb.score(X_test,y_test)"
   ]
  },
  {
   "cell_type": "code",
   "execution_count": 120,
   "metadata": {
    "collapsed": false
   },
   "outputs": [
    {
     "data": {
      "text/plain": [
       "<matplotlib.axes._subplots.AxesSubplot at 0x1735c6290>"
      ]
     },
     "execution_count": 120,
     "metadata": {},
     "output_type": "execute_result"
    },
    {
     "data": {
      "image/png": "[encoded data removed]",
      "text/plain": [
       "<matplotlib.figure.Figure at 0x1735d8210>"
      ]
     },
     "metadata": {},
     "output_type": "display_data"
    }
   ],
   "source": [
    "pd.Series(preds).hist()"
   ]
  },
  {
   "cell_type": "markdown",
   "metadata": {},
   "source": [
    "### Accuracy Metrics"
   ]
  },
  {
   "cell_type": "markdown",
   "metadata": {},
   "source": [
    "importnatn to consider what is the best accuracy measure to use to test results. notice that star rating is a ordered "
   ]
  }
 ],
 "metadata": {
  "kernelspec": {
   "display_name": "Python 2",
   "language": "python",
   "name": "python2"
  },
  "language_info": {
   "codemirror_mode": {
    "name": "ipython",
    "version": 2
   },
   "file_extension": ".py",
   "mimetype": "text/x-python",
   "name": "python",
   "nbconvert_exporter": "python",
   "pygments_lexer": "ipython2",
   "version": "2.7.11"
  }
 },
 "nbformat": 4,
 "nbformat_minor": 0
}
